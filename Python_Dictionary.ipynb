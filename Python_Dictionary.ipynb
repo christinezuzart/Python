{
  "nbformat": 4,
  "nbformat_minor": 0,
  "metadata": {
    "colab": {
      "name": "Python Dictionary.ipynb",
      "provenance": [],
      "include_colab_link": true
    },
    "kernelspec": {
      "name": "python3",
      "display_name": "Python 3"
    }
  },
  "cells": [
    {
      "cell_type": "markdown",
      "metadata": {
        "id": "view-in-github",
        "colab_type": "text"
      },
      "source": [
        "<a href=\"https://colab.research.google.com/github/christinezuzart/Python/blob/master/Python_Dictionary.ipynb\" target=\"_parent\"><img src=\"https://colab.research.google.com/assets/colab-badge.svg\" alt=\"Open In Colab\"/></a>"
      ]
    },
    {
      "cell_type": "code",
      "metadata": {
        "id": "zQQXlTNx512g",
        "colab_type": "code",
        "colab": {
          "base_uri": "https://localhost:8080/",
          "height": 34
        },
        "outputId": "6f66cb86-234f-4d94-d709-7044649439e2"
      },
      "source": [
        "dict = {}\n",
        "dict['one'] = \"This is one\"\n",
        "dict[2] = \"This is two\"\n",
        "\n",
        "print (dict)"
      ],
      "execution_count": 1,
      "outputs": [
        {
          "output_type": "stream",
          "text": [
            "{'one': 'This is one', 2: 'This is two'}\n"
          ],
          "name": "stdout"
        }
      ]
    },
    {
      "cell_type": "markdown",
      "metadata": {
        "id": "D0Lsr-Fa7bkG",
        "colab_type": "text"
      },
      "source": [
        "The last value assigned to key is considered here."
      ]
    },
    {
      "cell_type": "code",
      "metadata": {
        "id": "PA9CqHUj6Q_9",
        "colab_type": "code",
        "colab": {
          "base_uri": "https://localhost:8080/",
          "height": 67
        },
        "outputId": "6ceb78fe-30ba-474e-d064-2cecbda78b16"
      },
      "source": [
        "tinydict = {'name': 'john','code':6734, 'dept': 'sales', 'dept': 'christmas'}\n",
        "print(tinydict.keys())\n",
        "print(tinydict.values())\n",
        "print(tinydict['dept'])"
      ],
      "execution_count": 2,
      "outputs": [
        {
          "output_type": "stream",
          "text": [
            "dict_keys(['name', 'code', 'dept'])\n",
            "dict_values(['john', 6734, 'christmas'])\n",
            "christmas\n"
          ],
          "name": "stdout"
        }
      ]
    }
  ]
}