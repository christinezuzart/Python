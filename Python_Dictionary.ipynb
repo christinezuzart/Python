{
  "nbformat": 4,
  "nbformat_minor": 0,
  "metadata": {
    "colab": {
      "name": "Python Dictionary.ipynb",
      "provenance": [],
      "include_colab_link": true
    },
    "kernelspec": {
      "name": "python3",
      "display_name": "Python 3"
    }
  },
  "cells": [
    {
      "cell_type": "markdown",
      "metadata": {
        "id": "view-in-github",
        "colab_type": "text"
      },
      "source": [
        "<a href=\"https://colab.research.google.com/github/christinezuzart/Python/blob/master/Python_Dictionary.ipynb\" target=\"_parent\"><img src=\"https://colab.research.google.com/assets/colab-badge.svg\" alt=\"Open In Colab\"/></a>"
      ]
    },
    {
      "cell_type": "markdown",
      "metadata": {
        "id": "TWTDTJYp9DZe",
        "colab_type": "text"
      },
      "source": [
        "Create a Dictionary"
      ]
    },
    {
      "cell_type": "code",
      "metadata": {
        "id": "zQQXlTNx512g",
        "colab_type": "code",
        "outputId": "b622a679-fd27-4091-f130-9c739669b1a6",
        "colab": {
          "base_uri": "https://localhost:8080/",
          "height": 34
        }
      },
      "source": [
        "dict = {}\n",
        "dict['one'] = \"This is one\"\n",
        "dict[2] = \"This is two\"\n",
        "\n",
        "print (dict)"
      ],
      "execution_count": 1,
      "outputs": [
        {
          "output_type": "stream",
          "text": [
            "{'one': 'This is one', 2: 'This is two'}\n"
          ],
          "name": "stdout"
        }
      ]
    },
    {
      "cell_type": "code",
      "metadata": {
        "id": "oXm742Cd9KvM",
        "colab_type": "code",
        "colab": {
          "base_uri": "https://localhost:8080/",
          "height": 34
        },
        "outputId": "17f44af7-c107-4d9c-9fdb-6b3fad19f811"
      },
      "source": [
        "dict = {'one': 'This is one', 2 :'This is two'}\n",
        "\n",
        "print (dict)"
      ],
      "execution_count": 2,
      "outputs": [
        {
          "output_type": "stream",
          "text": [
            "{'one': 'This is one', 2: 'This is two'}\n"
          ],
          "name": "stdout"
        }
      ]
    },
    {
      "cell_type": "markdown",
      "metadata": {
        "id": "KVZOh_Q-9kcf",
        "colab_type": "text"
      },
      "source": [
        "The keys in the Dictionary are unique.The last value assigned to key is considered here."
      ]
    },
    {
      "cell_type": "code",
      "metadata": {
        "id": "PA9CqHUj6Q_9",
        "colab_type": "code",
        "outputId": "d4593940-3f0b-4481-bac4-a39461570eae",
        "colab": {
          "base_uri": "https://localhost:8080/",
          "height": 34
        }
      },
      "source": [
        "tinydict = {'name': 'john','code':6734, 'dept': 'sales', 'dept': 'christmas'}\n",
        "print(tinydict['dept'])"
      ],
      "execution_count": 3,
      "outputs": [
        {
          "output_type": "stream",
          "text": [
            "christmas\n"
          ],
          "name": "stdout"
        }
      ]
    },
    {
      "cell_type": "markdown",
      "metadata": {
        "id": "UZXjlrZ39_RE",
        "colab_type": "text"
      },
      "source": [
        "Query the keys and values of a Dictionary"
      ]
    },
    {
      "cell_type": "code",
      "metadata": {
        "id": "n2JLqqhr93EM",
        "colab_type": "code",
        "colab": {
          "base_uri": "https://localhost:8080/",
          "height": 50
        },
        "outputId": "99b3ce00-c000-45a1-f6d3-dc0844ee27a8"
      },
      "source": [
        "print(tinydict.keys())\n",
        "print(tinydict.values())"
      ],
      "execution_count": 4,
      "outputs": [
        {
          "output_type": "stream",
          "text": [
            "dict_keys(['name', 'code', 'dept'])\n",
            "dict_values(['john', 6734, 'christmas'])\n"
          ],
          "name": "stdout"
        }
      ]
    },
    {
      "cell_type": "markdown",
      "metadata": {
        "id": "dylheSAY-NLE",
        "colab_type": "text"
      },
      "source": [
        "Accessing Values in Dictionary"
      ]
    },
    {
      "cell_type": "code",
      "metadata": {
        "id": "jNhHwcu1-MCU",
        "colab_type": "code",
        "colab": {
          "base_uri": "https://localhost:8080/",
          "height": 34
        },
        "outputId": "5ea1bb32-423f-4046-92ca-f4a25b19ac30"
      },
      "source": [
        "dict = {'Name': 'Zara', 'Age': 7, 'Class': 'First'}\n",
        "print (\"dict['Name']: \", dict['Name'])"
      ],
      "execution_count": 5,
      "outputs": [
        {
          "output_type": "stream",
          "text": [
            "dict['Name']:  Zara\n"
          ],
          "name": "stdout"
        }
      ]
    },
    {
      "cell_type": "markdown",
      "metadata": {
        "id": "HnwV2Yow-hhN",
        "colab_type": "text"
      },
      "source": [
        "Updating Dictionary"
      ]
    },
    {
      "cell_type": "code",
      "metadata": {
        "id": "5LDdrwKo-mNl",
        "colab_type": "code",
        "colab": {
          "base_uri": "https://localhost:8080/",
          "height": 34
        },
        "outputId": "060485bb-d9eb-41ae-8335-48e327e28c51"
      },
      "source": [
        "dict['School'] = \"DPS School\"\n",
        "print(dict)"
      ],
      "execution_count": 6,
      "outputs": [
        {
          "output_type": "stream",
          "text": [
            "{'Name': 'Zara', 'Age': 7, 'Class': 'First', 'School': 'DPS School'}\n"
          ],
          "name": "stdout"
        }
      ]
    },
    {
      "cell_type": "markdown",
      "metadata": {
        "id": "bPbEiBzH-5iU",
        "colab_type": "text"
      },
      "source": [
        "Delete Dictionary Elements"
      ]
    },
    {
      "cell_type": "code",
      "metadata": {
        "id": "xrioFnFk-6Vl",
        "colab_type": "code",
        "colab": {
          "base_uri": "https://localhost:8080/",
          "height": 34
        },
        "outputId": "6928c372-282a-4092-8b63-f7ca31431f4b"
      },
      "source": [
        "del dict['Name']; # remove entry with key 'Name'\n",
        "print(dict)"
      ],
      "execution_count": 7,
      "outputs": [
        {
          "output_type": "stream",
          "text": [
            "{'Age': 7, 'Class': 'First', 'School': 'DPS School'}\n"
          ],
          "name": "stdout"
        }
      ]
    },
    {
      "cell_type": "code",
      "metadata": {
        "id": "G-_tbS57_LkE",
        "colab_type": "code",
        "colab": {
          "base_uri": "https://localhost:8080/",
          "height": 34
        },
        "outputId": "97ea0fbb-5c26-42ac-aa05-787b168636df"
      },
      "source": [
        "dict.clear();     # remove all entries in dict\n",
        "print(dict)"
      ],
      "execution_count": 8,
      "outputs": [
        {
          "output_type": "stream",
          "text": [
            "{}\n"
          ],
          "name": "stdout"
        }
      ]
    },
    {
      "cell_type": "code",
      "metadata": {
        "id": "geJun8Zs_O0k",
        "colab_type": "code",
        "colab": {
          "base_uri": "https://localhost:8080/",
          "height": 34
        },
        "outputId": "b8f31eb6-785a-46cc-95e6-f6c9dedb88b0"
      },
      "source": [
        "del dict ;        # delete entire dictionary\n",
        "print(dict)"
      ],
      "execution_count": 9,
      "outputs": [
        {
          "output_type": "stream",
          "text": [
            "<class 'dict'>\n"
          ],
          "name": "stdout"
        }
      ]
    }
  ]
}